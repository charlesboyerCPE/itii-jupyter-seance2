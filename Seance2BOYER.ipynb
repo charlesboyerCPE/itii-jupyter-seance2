{
 "cells": [
  {
   "cell_type": "code",
   "execution_count": 3,
   "metadata": {},
   "outputs": [],
   "source": [
    "class Rectangle:\n",
    "    def __init__(self, longueurRect, largeurRect):\n",
    "        self.longueur = longueurRect;\n",
    "        self.largeur = largeurRect;\n",
    "    \n",
    "    def perimetre(self):\n",
    "        return self.longueur+self.largeur;\n",
    "    \n",
    "    def surface(self):\n",
    "        return self.longueur*self.largeur;\n",
    "    \n",
    "    def getLongueur(self):\n",
    "        return self.longueur;\n",
    "    \n",
    "    def getLargeur(self):\n",
    "        return self.largeur;\n",
    "\n",
    "\n",
    "class Parallelepipede(Rectangle):\n",
    "    def __init__(self, hauteurPara, longueurRect, largeurRect):\n",
    "        super().__init__(self, longueurRect, largeurRect);\n",
    "        self.hauteur = hauteurPara;\n",
    "        \n",
    "    def volume(self):\n",
    "        return self.longueur * self.largeur * self.hauteur;\n",
    "\n",
    "\n",
    "    \n",
    "    "
   ]
  },
  {
   "cell_type": "code",
   "execution_count": null,
   "metadata": {},
   "outputs": [],
   "source": [
    "class Vecteur2D:\n",
    "    def __init__(self,)"
   ]
  }
 ],
 "metadata": {
  "kernelspec": {
   "display_name": "Python 3",
   "language": "python",
   "name": "python3"
  },
  "language_info": {
   "codemirror_mode": {
    "name": "ipython",
    "version": 3
   },
   "file_extension": ".py",
   "mimetype": "text/x-python",
   "name": "python",
   "nbconvert_exporter": "python",
   "pygments_lexer": "ipython3",
   "version": "3.7.6"
  }
 },
 "nbformat": 4,
 "nbformat_minor": 4
}
